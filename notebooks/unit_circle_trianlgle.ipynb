{
 "cells": [
  {
   "cell_type": "markdown",
   "metadata": {},
   "source": [
    "Say that you pick three random points on a unit circle and form a triangle from them. What is the probability that the triangle includes the center of the unit circle?"
   ]
  },
  {
   "cell_type": "code",
   "execution_count": 33,
   "metadata": {},
   "outputs": [],
   "source": [
    "import random\n",
    "import numpy as np"
   ]
  },
  {
   "cell_type": "code",
   "execution_count": 9,
   "metadata": {},
   "outputs": [
    {
     "data": {
      "text/plain": [
       "46.78181725333666"
      ]
     },
     "execution_count": 9,
     "metadata": {},
     "output_type": "execute_result"
    }
   ],
   "source": [
    "random.uniform(0.0, 365.0)"
   ]
  },
  {
   "cell_type": "code",
   "execution_count": 36,
   "metadata": {},
   "outputs": [],
   "source": [
    "def rotate(deg):\n",
    "    if 360 >= deg >= 180:\n",
    "        return deg - 180\n",
    "    elif 180 > deg >= 0:\n",
    "        return 360 - (180 - deg)\n",
    "    else:\n",
    "        raise ValueError(\"bad input\")\n",
    "    \n",
    "    \n",
    "def tri():\n",
    "    a = random.uniform(0.0, 360.0)\n",
    "    b = random.uniform(0.0, 360.0)\n",
    "    c = random.uniform(0.0, 360.0)\n",
    "    a = rotate(a)\n",
    "    b = rotate(b)\n",
    "    if b > a:\n",
    "        if a <= c <= b:\n",
    "            return True\n",
    "    elif b < a:\n",
    "        if b <= c <= a:\n",
    "            return True\n",
    "    return False"
   ]
  },
  {
   "cell_type": "code",
   "execution_count": 37,
   "metadata": {},
   "outputs": [
    {
     "data": {
      "text/plain": [
       "False"
      ]
     },
     "execution_count": 37,
     "metadata": {},
     "output_type": "execute_result"
    }
   ],
   "source": [
    "tri()"
   ]
  },
  {
   "cell_type": "code",
   "execution_count": 53,
   "metadata": {},
   "outputs": [
    {
     "data": {
      "text/plain": [
       "0.33597"
      ]
     },
     "execution_count": 53,
     "metadata": {},
     "output_type": "execute_result"
    }
   ],
   "source": [
    "trials = []\n",
    "for i in range(100000):\n",
    "    trials.append(tri())\n",
    "np.mean(trials)"
   ]
  },
  {
   "cell_type": "code",
   "execution_count": null,
   "metadata": {},
   "outputs": [],
   "source": []
  }
 ],
 "metadata": {
  "hide_input": false,
  "kernelspec": {
   "display_name": "Python 3",
   "language": "python",
   "name": "python3"
  },
  "language_info": {
   "codemirror_mode": {
    "name": "ipython",
    "version": 3
   },
   "file_extension": ".py",
   "mimetype": "text/x-python",
   "name": "python",
   "nbconvert_exporter": "python",
   "pygments_lexer": "ipython3",
   "version": "3.8.5"
  }
 },
 "nbformat": 4,
 "nbformat_minor": 4
}
