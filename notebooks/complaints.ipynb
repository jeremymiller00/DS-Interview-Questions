{
 "cells": [
  {
   "cell_type": "markdown",
   "metadata": {},
   "source": [
    "The following dataset contains consumer complaints received by the Bureau of Consumer Financial Protection about financial products and services from 2012-2016.\n",
    "\n",
    "Can you identify the financial product that receives the most complaints? Within that product can you highlight (1) the largest issue within the product and (2) the company that is contributing most to that product?\n",
    "\n",
    "You can find more information about this data set here."
   ]
  },
  {
   "cell_type": "code",
   "execution_count": 1,
   "metadata": {},
   "outputs": [],
   "source": [
    "import pandas as pd"
   ]
  },
  {
   "cell_type": "code",
   "execution_count": 2,
   "metadata": {},
   "outputs": [
    {
     "name": "stderr",
     "output_type": "stream",
     "text": [
      "/opt/anaconda3/lib/python3.8/site-packages/IPython/core/interactiveshell.py:3146: DtypeWarning: Columns (5,11) have mixed types.Specify dtype option on import or set low_memory=False.\n",
      "  has_raised = await self.run_ast_nodes(code_ast.body, cell_name,\n"
     ]
    }
   ],
   "source": [
    "data = pd.read_csv(\"https://urldefense.proofpoint.com/v2/url?u=https-3A__u4221007.ct.sendgrid.net_ls_click-3Fupn-3DqwT-2D2Bl0U064-2D2B7oRNpPgUya1f-2D2FWm-2D2BSRE5x6OsSLW1v4YY6-2D2BpGF7TEl-2D2FjMDolBHPEIVhvrcQ3HwnUFGbXw0oHC6NnSKvi-2D2FZICpVxn7nUxTIFno-2D3D1eWK-5F8NmjMJ0SoJOoyVQg-2D2BQIbGEfvRWkPOmQ1DxSk2e0DXjqY0aiEaXhFNdUqLCPJ6i3Z8UhBK-2D2Fcf3ItrPcECAARBlz-2D2FyTYcNtNi8JTjdec2ei2D26l7kRM8tI-2D2Fgg3ptIArR-2D2By88S2PbKfDLjczykSWrdvDZXcLq71W9cSARb2fxYuaMjyCEAga10dBN5dB-2D2Fl5xnD7bsYcUPW9WHM40BRTauWdWamT0yzdKnoUA3jAajRuoY-2D3D&d=DwMFAg&c=OGmtg_3SI10Cogwk-ShFiw&r=V6VIB51Ik1VJBXeRbYttl_rVwvDbPPuX0algzz1YuPs&m=rEdLLvvry35aNjnZV-lQVtkTTQD4XJXWc9qN_4wziU8&s=9YUYkSRRFRpPPvDF5iVjr-w14hoGPqkX9aOwaDGjbXM&e=\")"
   ]
  },
  {
   "cell_type": "code",
   "execution_count": 3,
   "metadata": {},
   "outputs": [
    {
     "name": "stdout",
     "output_type": "stream",
     "text": [
      "<class 'pandas.core.frame.DataFrame'>\n",
      "RangeIndex: 670598 entries, 0 to 670597\n",
      "Data columns (total 18 columns):\n",
      " #   Column                        Non-Null Count   Dtype \n",
      "---  ------                        --------------   ----- \n",
      " 0   Date received                 670598 non-null  object\n",
      " 1   Product                       670598 non-null  object\n",
      " 2   Sub-product                   472396 non-null  object\n",
      " 3   Issue                         670598 non-null  object\n",
      " 4   Sub-issue                     269868 non-null  object\n",
      " 5   Consumer complaint narrative  114704 non-null  object\n",
      " 6   Company public response       145197 non-null  object\n",
      " 7   Company                       670598 non-null  object\n",
      " 8   State                         665293 non-null  object\n",
      " 9   ZIP code                      665274 non-null  object\n",
      " 10  Tags                          94730 non-null   object\n",
      " 11  Consumer consent provided?    208151 non-null  object\n",
      " 12  Submitted via                 670598 non-null  object\n",
      " 13  Date sent to company          670598 non-null  object\n",
      " 14  Company response to consumer  670598 non-null  object\n",
      " 15  Timely response?              670598 non-null  object\n",
      " 16  Consumer disputed?            629179 non-null  object\n",
      " 17  Complaint ID                  670598 non-null  int64 \n",
      "dtypes: int64(1), object(17)\n",
      "memory usage: 92.1+ MB\n"
     ]
    }
   ],
   "source": [
    "data.info()"
   ]
  },
  {
   "cell_type": "markdown",
   "metadata": {},
   "source": [
    "## Which financial product receives the most complaints?"
   ]
  },
  {
   "cell_type": "code",
   "execution_count": 5,
   "metadata": {},
   "outputs": [
    {
     "data": {
      "text/plain": [
       "Mortgage                   210324\n",
       "Debt collection            124236\n",
       "Credit reporting           119195\n",
       "Credit card                 79007\n",
       "Bank account or service     76084\n",
       "Consumer Loan               26604\n",
       "Student loan                21651\n",
       "Payday loan                  4786\n",
       "Money transfers              4720\n",
       "Prepaid card                 3171\n",
       "Other financial service       806\n",
       "Virtual currency               14\n",
       "Name: Product, dtype: int64"
      ]
     },
     "execution_count": 5,
     "metadata": {},
     "output_type": "execute_result"
    }
   ],
   "source": [
    "data['Product'].value_counts()"
   ]
  },
  {
   "cell_type": "markdown",
   "metadata": {},
   "source": [
    "## Within that product can you highlight (1) the largest issue within the product and (2) the company that is contributing most to that product?"
   ]
  },
  {
   "cell_type": "code",
   "execution_count": 7,
   "metadata": {},
   "outputs": [],
   "source": [
    "m = data[data['Product'] == \"Mortgage\"]"
   ]
  },
  {
   "cell_type": "code",
   "execution_count": 8,
   "metadata": {},
   "outputs": [
    {
     "data": {
      "text/plain": [
       "Loan modification,collection,foreclosure    106455\n",
       "Loan servicing, payments, escrow account     70166\n",
       "Application, originator, mortgage broker     15518\n",
       "Settlement process and costs                  8073\n",
       "Credit decision / Underwriting                5125\n",
       "Other                                         4987\n",
       "Name: Issue, dtype: int64"
      ]
     },
     "execution_count": 8,
     "metadata": {},
     "output_type": "execute_result"
    }
   ],
   "source": [
    "m['Issue'].value_counts()"
   ]
  },
  {
   "cell_type": "code",
   "execution_count": 9,
   "metadata": {},
   "outputs": [
    {
     "data": {
      "text/plain": [
       "Bank of America                       38505\n",
       "Wells Fargo & Company                 28491\n",
       "Ocwen                                 22253\n",
       "JPMorgan Chase & Co.                  17453\n",
       "Nationstar Mortgage                   14641\n",
       "                                      ...  \n",
       "1st Franklin Financial Corporation        1\n",
       "Frontier Financial, Inc.                  1\n",
       "Paragon Home Loans, Inc                   1\n",
       "Radiant Title, LLC                        1\n",
       "Unifirst Mortgage Corporation             1\n",
       "Name: Company, Length: 1149, dtype: int64"
      ]
     },
     "execution_count": 9,
     "metadata": {},
     "output_type": "execute_result"
    }
   ],
   "source": [
    "m['Company'].value_counts()"
   ]
  },
  {
   "cell_type": "code",
   "execution_count": null,
   "metadata": {},
   "outputs": [],
   "source": []
  }
 ],
 "metadata": {
  "hide_input": false,
  "kernelspec": {
   "display_name": "Python 3",
   "language": "python",
   "name": "python3"
  },
  "language_info": {
   "codemirror_mode": {
    "name": "ipython",
    "version": 3
   },
   "file_extension": ".py",
   "mimetype": "text/x-python",
   "name": "python",
   "nbconvert_exporter": "python",
   "pygments_lexer": "ipython3",
   "version": "3.8.5"
  }
 },
 "nbformat": 4,
 "nbformat_minor": 4
}
