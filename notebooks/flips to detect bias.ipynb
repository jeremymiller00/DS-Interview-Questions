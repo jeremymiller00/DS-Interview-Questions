{
 "cells": [
  {
   "cell_type": "code",
   "execution_count": 1,
   "metadata": {},
   "outputs": [],
   "source": [
    "from scipy.stats import binom"
   ]
  },
  {
   "cell_type": "markdown",
   "metadata": {},
   "source": [
    "Say you have an unfair coin which will land on heads 60% of the time. How many coin flips are needed to detect that the coin is unfair?"
   ]
  },
  {
   "cell_type": "code",
   "execution_count": 17,
   "metadata": {},
   "outputs": [
    {
     "name": "stdout",
     "output_type": "stream",
     "text": [
      "0 0.0 1.0\n",
      "5 3.0 0.3125\n",
      "10 6.0 0.20507812500000022\n",
      "15 9.0 0.15274047851562547\n",
      "20 12.0 0.12013435363769531\n",
      "25 15.0 0.09741663932800232\n",
      "30 18.0 0.08055309299379536\n",
      "35 21.0 0.06751970504410489\n",
      "40 24.0 0.05716365344596845\n",
      "45 27.0 0.04876837053132206\n",
      "50 30.0 0.04185914925255199\n",
      "55 33.0 0.03610594117187797\n",
      "60 36.0 0.03127046146516962\n",
      "65 39.0 0.02717543046817561\n",
      "70 42.0 0.023685704219061212\n",
      "75 45.0 0.020696176203768762\n",
      "80 48.0 0.018123727937713927\n",
      "85 51.0 0.015901702126097598\n",
      "90 54.0 0.013976003782272308\n",
      "95 57.0 0.01230228447829185\n",
      "100 60.0 0.010843866711637149\n"
     ]
    }
   ],
   "source": [
    "for n in range(0,101):\n",
    "#     n = 100\n",
    "    k = n*0.6\n",
    "    res = binom.pmf(k, n, 0.5)\n",
    "    if res != 0.0:\n",
    "        print(n, k, res)"
   ]
  },
  {
   "cell_type": "code",
   "execution_count": null,
   "metadata": {},
   "outputs": [],
   "source": []
  }
 ],
 "metadata": {
  "hide_input": false,
  "kernelspec": {
   "display_name": "Python 3",
   "language": "python",
   "name": "python3"
  },
  "language_info": {
   "codemirror_mode": {
    "name": "ipython",
    "version": 3
   },
   "file_extension": ".py",
   "mimetype": "text/x-python",
   "name": "python",
   "nbconvert_exporter": "python",
   "pygments_lexer": "ipython3",
   "version": "3.8.5"
  }
 },
 "nbformat": 4,
 "nbformat_minor": 4
}
