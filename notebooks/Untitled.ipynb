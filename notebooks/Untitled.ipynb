{
 "cells": [
  {
   "cell_type": "markdown",
   "metadata": {},
   "source": [
    "Suppose you're given an array of n elements. Within this array, return the greatest value of a single element that is the product of two elements contained within the same array. If no such product exists, print N/A. Lastly, you can assume that the values within the array are positive integers.\n",
    "\n",
    "For example:\n",
    "\n",
    "Input: array = [2, 2, 4, 5, 9] \n",
    "Output: 4 #(since 2 * 2 = 4)\n",
    "\n",
    "Input: array = [1, 3, 4, 7, 10] \n",
    "Output: 10 #(since 1 * 10 = 10)\n",
    "\n",
    "Input: array = [3, 3, 4, 7, 10] \n",
    "Output: N/A"
   ]
  },
  {
   "cell_type": "code",
   "execution_count": 1,
   "metadata": {},
   "outputs": [],
   "source": [
    "a1 = [2, 2, 4, 5, 9]\n",
    "a2 = [1, 3, 4, 7, 10]\n",
    "a3 = [3, 3, 4, 7, 10]"
   ]
  },
  {
   "cell_type": "code",
   "execution_count": 17,
   "metadata": {},
   "outputs": [],
   "source": [
    "def prod_pair(arr):\n",
    "    a = arr.copy()\n",
    "    a.sort(reverse=True)\n",
    "    products = []\n",
    "    for i, v in enumerate(a):\n",
    "        for j, w in enumerate(a\n",
    "                             ):\n",
    "            if i != j:\n",
    "                if v*w in a:\n",
    "                    return v*w\n",
    "    print(\"N/A\")\n",
    "    return None"
   ]
  },
  {
   "cell_type": "code",
   "execution_count": 19,
   "metadata": {},
   "outputs": [
    {
     "name": "stdout",
     "output_type": "stream",
     "text": [
      "4\n",
      "10\n",
      "N/A\n",
      "None\n"
     ]
    }
   ],
   "source": [
    "print(prod_pair(a1))\n",
    "print(prod_pair(a2))\n",
    "print(prod_pair(a3))"
   ]
  },
  {
   "cell_type": "code",
   "execution_count": null,
   "metadata": {},
   "outputs": [],
   "source": []
  }
 ],
 "metadata": {
  "hide_input": false,
  "kernelspec": {
   "display_name": "Python 3",
   "language": "python",
   "name": "python3"
  },
  "language_info": {
   "codemirror_mode": {
    "name": "ipython",
    "version": 3
   },
   "file_extension": ".py",
   "mimetype": "text/x-python",
   "name": "python",
   "nbconvert_exporter": "python",
   "pygments_lexer": "ipython3",
   "version": "3.7.7"
  }
 },
 "nbformat": 4,
 "nbformat_minor": 4
}
