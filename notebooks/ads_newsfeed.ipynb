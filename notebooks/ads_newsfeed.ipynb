{
 "cells": [
  {
   "cell_type": "markdown",
   "metadata": {},
   "source": [
    "Suppose you're working for a social media company that has a feature similar to Facebook's newsfeed. The company has two options for serving ads within their newsfeed:  \n",
    "\n",
    "* Out of every 25 stories, one will be an ad\n",
    "* Every story has a 4% chance of being an ad\n",
    "\n",
    "Questions:\n",
    "* For each option, what is the expected number of ads shown in 100 news stories? \n",
    "* If we go with the second option, what is the chance a user will be shown only a single ad in 100 stories? \n",
    "* What about no ads at all?"
   ]
  },
  {
   "cell_type": "code",
   "execution_count": 37,
   "metadata": {},
   "outputs": [],
   "source": [
    "from scipy.stats import binom\n",
    "import numpy as np\n",
    "import matplotlib.pyplot as plt"
   ]
  },
  {
   "cell_type": "markdown",
   "metadata": {},
   "source": [
    "Question 1:"
   ]
  },
  {
   "cell_type": "code",
   "execution_count": 38,
   "metadata": {},
   "outputs": [
    {
     "name": "stdout",
     "output_type": "stream",
     "text": [
      "Expected number of ads per 100 in option A: 4.0\n"
     ]
    }
   ],
   "source": [
    "print(\"Expected number of ads per 100 in option A: {}\".format(100/25))"
   ]
  },
  {
   "cell_type": "code",
   "execution_count": 36,
   "metadata": {},
   "outputs": [
    {
     "name": "stdout",
     "output_type": "stream",
     "text": [
      "Expected number of ads per 100 stories in option B: 4.0\n"
     ]
    }
   ],
   "source": [
    "trials = []\n",
    "for i in range(10000):\n",
    "    trials.append(np.random.random())\n",
    "E = np.sum(np.array(trials) <= 0.04) / 10000\n",
    "print(\"Expected number of ads per 100 stories in option B: {}\".format(np.round(E*100)))"
   ]
  },
  {
   "cell_type": "markdown",
   "metadata": {},
   "source": [
    "Question 2:"
   ]
  },
  {
   "cell_type": "code",
   "execution_count": 45,
   "metadata": {},
   "outputs": [
    {
     "data": {
      "image/png": "[encoded data removed]",
      "text/plain": [
       "<Figure size 432x288 with 1 Axes>"
      ]
     },
     "metadata": {
      "needs_background": "light"
     },
     "output_type": "display_data"
    }
   ],
   "source": [
    "n, p = 100, 0.04\n",
    "# rv = binom(n, p)\n",
    "fig, ax = plt.subplots()\n",
    "x = np.arange(binom.ppf(0.01, n, p), binom.ppf(0.99, n, p))\n",
    "\n",
    "# ax.vlines(x, 0, rv.pmf(x), colors='k', linestyles='-', lw=1, label='frozen pmf')\n",
    "# ax.legend(loc='best', frameon=False)\n",
    "\n",
    "ax.plot(x, binom.pmf(x, n, p), 'bo', ms=8, label='binom pmf')\n",
    "ax.vlines(x, 0, binom.pmf(x, n, p), colors='b', lw=5, alpha=0.5)\n",
    "\n",
    "plt.show()"
   ]
  },
  {
   "cell_type": "code",
   "execution_count": 50,
   "metadata": {},
   "outputs": [
    {
     "name": "stdout",
     "output_type": "stream",
     "text": [
      "Probability that the user will be shown 1 ad in 100 stories with option B: 0.07029299732853884\n"
     ]
    }
   ],
   "source": [
    "print(\"Probability that the user will be shown 1 ad in 100 stories with option B: {}\".format(binom.pmf(1, n, p)))"
   ]
  },
  {
   "cell_type": "code",
   "execution_count": 51,
   "metadata": {},
   "outputs": [
    {
     "name": "stdout",
     "output_type": "stream",
     "text": [
      "Probability that the user will be shown 1 ad in 100 stories with option B: 0.016870319358849646\n"
     ]
    }
   ],
   "source": [
    "print(\"Probability that the user will be shown 1 ad in 100 stories with option B: {}\".format(binom.pmf(0, n, p)))"
   ]
  },
  {
   "cell_type": "code",
   "execution_count": null,
   "metadata": {},
   "outputs": [],
   "source": []
  }
 ],
 "metadata": {
  "hide_input": false,
  "kernelspec": {
   "display_name": "Python 3",
   "language": "python",
   "name": "python3"
  },
  "language_info": {
   "codemirror_mode": {
    "name": "ipython",
    "version": 3
   },
   "file_extension": ".py",
   "mimetype": "text/x-python",
   "name": "python",
   "nbconvert_exporter": "python",
   "pygments_lexer": "ipython3",
   "version": "3.7.5"
  }
 },
 "nbformat": 4,
 "nbformat_minor": 2
}
