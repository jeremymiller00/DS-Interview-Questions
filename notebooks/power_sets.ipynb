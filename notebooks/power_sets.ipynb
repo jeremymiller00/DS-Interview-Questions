{
 "cells": [
  {
   "cell_type": "markdown",
   "metadata": {},
   "source": [
    "Create a function that generates the power set given a set of values.\n",
    "\n",
    "For example, if you're given the following set:\n",
    "\n",
    "set = {1, 2, 3}\n",
    "Your function should the corresponding power set (note this can be a formatted as a list of lists):\n",
    "\n",
    "power set = [[], [1], [2], [1, 2], [3], [1, 3], [2, 3], [1, 2, 3]]\n",
    "Solution will be written in python for premium users."
   ]
  },
  {
   "cell_type": "code",
   "execution_count": 20,
   "metadata": {},
   "outputs": [],
   "source": [
    "def ps(s: set) -> list:\n",
    "    if not isinstance(s, set):\n",
    "        raise ValueError(\"Input must be of type set\")\n",
    "    out  = [[]]\n",
    "    l = sorted(list(s))\n",
    "    for i in range(len(l)):\n",
    "        for j in range(len(l)):\n",
    "            while i+j < len(l):\n",
    "                print(i,j)\n",
    "                out.append(l[j:j+i+1])\n",
    "                j += 1\n",
    "    return out"
   ]
  },
  {
   "cell_type": "code",
   "execution_count": 21,
   "metadata": {},
   "outputs": [
    {
     "name": "stdout",
     "output_type": "stream",
     "text": [
      "0 0\n",
      "0 1\n",
      "0 2\n",
      "0 1\n",
      "0 2\n",
      "0 2\n",
      "1 0\n",
      "1 1\n",
      "1 1\n",
      "2 0\n"
     ]
    },
    {
     "data": {
      "text/plain": [
       "[[], [1], [2], [3], [2], [3], [3], [1, 2], [2, 3], [2, 3], [1, 2, 3]]"
      ]
     },
     "execution_count": 21,
     "metadata": {},
     "output_type": "execute_result"
    }
   ],
   "source": [
    "ps({2,1,3})"
   ]
  },
  {
   "cell_type": "code",
   "execution_count": null,
   "metadata": {},
   "outputs": [],
   "source": []
  }
 ],
 "metadata": {
  "hide_input": false,
  "kernelspec": {
   "display_name": "Python 3",
   "language": "python",
   "name": "python3"
  },
  "language_info": {
   "codemirror_mode": {
    "name": "ipython",
    "version": 3
   },
   "file_extension": ".py",
   "mimetype": "text/x-python",
   "name": "python",
   "nbconvert_exporter": "python",
   "pygments_lexer": "ipython3",
   "version": "3.8.5"
  }
 },
 "nbformat": 4,
 "nbformat_minor": 4
}
