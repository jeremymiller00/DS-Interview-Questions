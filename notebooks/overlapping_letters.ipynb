{
 "cells": [
  {
   "cell_type": "markdown",
   "metadata": {},
   "source": [
    "Print common characters using Python\n",
    "Python String Manipulation\n",
    "\n",
    "Given two strings, write code to print overlapping letters in alphabetical order.\n",
    "\n",
    "For example:\n",
    "\n",
    "    \n",
    "#Given the following strings:\n",
    "    \n",
    "\n",
    "str1 = 'card'\n",
    "    \n",
    "\n",
    "str2 = 'shark'\n",
    "    \n",
    "\n",
    "\n",
    "    \n",
    "\n",
    "#Your overlapping letters would be 'a' (1x) and 'r' (1x), \n",
    "    \n",
    "\n",
    "#and they just happen to be in alphabetical order already, \n",
    "    \n",
    "\n",
    "#so your code would return:\n",
    "    \n",
    "\n",
    "'ar'"
   ]
  },
  {
   "cell_type": "code",
   "execution_count": 14,
   "metadata": {},
   "outputs": [],
   "source": [
    "def overlap(s1: str, s2: str) -> str:\n",
    "    l1 = set(s1)\n",
    "    l2 = set(s2)\n",
    "    inter = l1.intersection(l2)\n",
    "    lst = sorted(list(inter))\n",
    "    return \"\".join(lst)"
   ]
  },
  {
   "cell_type": "code",
   "execution_count": 15,
   "metadata": {},
   "outputs": [
    {
     "data": {
      "text/plain": [
       "'ar'"
      ]
     },
     "execution_count": 15,
     "metadata": {},
     "output_type": "execute_result"
    }
   ],
   "source": [
    "overlap(\"card\", \"shark\")"
   ]
  },
  {
   "cell_type": "code",
   "execution_count": null,
   "metadata": {},
   "outputs": [],
   "source": []
  }
 ],
 "metadata": {
  "kernelspec": {
   "display_name": "Python 3",
   "language": "python",
   "name": "python3"
  },
  "language_info": {
   "codemirror_mode": {
    "name": "ipython",
    "version": 3
   },
   "file_extension": ".py",
   "mimetype": "text/x-python",
   "name": "python",
   "nbconvert_exporter": "python",
   "pygments_lexer": "ipython3",
   "version": "3.8.5"
  }
 },
 "nbformat": 4,
 "nbformat_minor": 4
}
