{
 "cells": [
  {
   "cell_type": "markdown",
   "metadata": {},
   "source": [
    "Suppose a company is taxed 20% if earnings for a given quarter are >= $3M USD.\n",
    "\n",
    "If earnings land < $3M USD for the quarter, the company is taxed at a lower rate of 15%.\n",
    "\n",
    "Write a function using Python to calculate both the pre-tax and post-tax earnings for a given company, with the ability to feed in the # of widgets sold as well as the average price of the widget as inputs (# of widgets sold * avg. price of widgets = total earnings in this case).\n",
    "\n",
    "For example, if the company sells 20,000 widgets at an average price of $220 USD then your function should return:\n",
    "\n",
    "Pre-tax earnings were 20,000*220 = 4.4M for the quarter.\n",
    "Post-tax earnings were 3.52M for the quarter [4.4M *.8 (since we fall in higher 20 percent tax bracket here)]"
   ]
  },
  {
   "cell_type": "code",
   "execution_count": 1,
   "metadata": {},
   "outputs": [],
   "source": [
    "def post_tax(n_widgets: int, avg_price: float) -> float:\n",
    "    earnings = n_widgets * avg_price\n",
    "    if earnings >= 3000000:\n",
    "        return earnings * 0.8\n",
    "    return earnings * 0.85"
   ]
  },
  {
   "cell_type": "code",
   "execution_count": 2,
   "metadata": {},
   "outputs": [
    {
     "data": {
      "text/plain": [
       "3520000.0"
      ]
     },
     "execution_count": 2,
     "metadata": {},
     "output_type": "execute_result"
    }
   ],
   "source": [
    "post_tax(20000, 220)"
   ]
  },
  {
   "cell_type": "code",
   "execution_count": null,
   "metadata": {},
   "outputs": [],
   "source": []
  }
 ],
 "metadata": {
  "hide_input": false,
  "kernelspec": {
   "display_name": "Python 3",
   "language": "python",
   "name": "python3"
  },
  "language_info": {
   "codemirror_mode": {
    "name": "ipython",
    "version": 3
   },
   "file_extension": ".py",
   "mimetype": "text/x-python",
   "name": "python",
   "nbconvert_exporter": "python",
   "pygments_lexer": "ipython3",
   "version": "3.8.5"
  }
 },
 "nbformat": 4,
 "nbformat_minor": 4
}
