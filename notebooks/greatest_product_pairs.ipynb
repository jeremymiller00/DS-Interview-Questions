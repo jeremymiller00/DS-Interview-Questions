{
 "cells": [
  {
   "cell_type": "markdown",
   "metadata": {},
   "source": [
    "Suppose you're given an array of n elements. Within this array, return the greatest value of a single element that is the product of two elements contained within the same array. If no such product exists, print N/A. Lastly, you can assume that the values within the array are positive integers.\n",
    "\n",
    "For example:\n",
    "\n",
    "    \n",
    "Input: array = [2, 2, 4, 5, 9] \n",
    "    \n",
    "\n",
    "Output: 4 #(since 2 * 2 = 4)\n",
    "    \n",
    "\n",
    "\n",
    "    \n",
    "\n",
    "Input: array = [1, 3, 4, 7, 10] \n",
    "    \n",
    "\n",
    "Output: 10 #(since 1 * 10 = 10)\n",
    "    \n",
    "\n",
    "\n",
    "    \n",
    "\n",
    "Input: array = [3, 3, 4, 7, 10] \n",
    "    \n",
    "\n",
    "Output: N/A"
   ]
  },
  {
   "cell_type": "code",
   "execution_count": 1,
   "metadata": {},
   "outputs": [],
   "source": [
    "from itertools import combinations"
   ]
  },
  {
   "cell_type": "code",
   "execution_count": 48,
   "metadata": {},
   "outputs": [],
   "source": [
    "def greatest_product_pair(arr: list):\n",
    "    values = sorted(list(arr), reverse=True)\n",
    "    for i in range(len(values)):\n",
    "        c = combinations(values, 2)\n",
    "        for com in c:\n",
    "            if com[0] * com[1] == values[i]:\n",
    "                return values[i]\n",
    "    return None"
   ]
  },
  {
   "cell_type": "code",
   "execution_count": 49,
   "metadata": {},
   "outputs": [
    {
     "data": {
      "text/plain": [
       "4"
      ]
     },
     "execution_count": 49,
     "metadata": {},
     "output_type": "execute_result"
    }
   ],
   "source": [
    "greatest_product_pair([2,2,4,5,9])"
   ]
  },
  {
   "cell_type": "code",
   "execution_count": 50,
   "metadata": {},
   "outputs": [
    {
     "data": {
      "text/plain": [
       "10"
      ]
     },
     "execution_count": 50,
     "metadata": {},
     "output_type": "execute_result"
    }
   ],
   "source": [
    "greatest_product_pair([1, 3, 4, 7, 10])"
   ]
  },
  {
   "cell_type": "code",
   "execution_count": 51,
   "metadata": {},
   "outputs": [],
   "source": [
    "greatest_product_pair([3, 3, 4, 7, 10])"
   ]
  },
  {
   "cell_type": "code",
   "execution_count": null,
   "metadata": {},
   "outputs": [],
   "source": []
  }
 ],
 "metadata": {
  "hide_input": false,
  "kernelspec": {
   "display_name": "Python 3",
   "language": "python",
   "name": "python3"
  },
  "language_info": {
   "codemirror_mode": {
    "name": "ipython",
    "version": 3
   },
   "file_extension": ".py",
   "mimetype": "text/x-python",
   "name": "python",
   "nbconvert_exporter": "python",
   "pygments_lexer": "ipython3",
   "version": "3.8.5"
  }
 },
 "nbformat": 4,
 "nbformat_minor": 4
}
