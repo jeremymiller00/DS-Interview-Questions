{
 "cells": [
  {
   "cell_type": "markdown",
   "id": "endless-paper",
   "metadata": {},
   "source": [
    "This problem was asked by Lyft.\n",
    "\n",
    "Say you pick the radius of a circle from a uniform distribution between 0 and 1. What is the probability density of the area of the resulting circle?"
   ]
  },
  {
   "cell_type": "code",
   "execution_count": 8,
   "id": "worthy-aquarium",
   "metadata": {},
   "outputs": [],
   "source": [
    "from scipy.stats import uniform\n",
    "import math\n",
    "import matplotlib.pyplot as plt"
   ]
  },
  {
   "cell_type": "code",
   "execution_count": 4,
   "id": "honest-shepherd",
   "metadata": {},
   "outputs": [],
   "source": [
    "def area(r: float) -> float:\n",
    "    return r**2 * math.pi"
   ]
  },
  {
   "cell_type": "code",
   "execution_count": 16,
   "id": "capital-organization",
   "metadata": {},
   "outputs": [],
   "source": [
    "r = uniform.rvs(size=100000)"
   ]
  },
  {
   "cell_type": "code",
   "execution_count": 19,
   "id": "blond-hebrew",
   "metadata": {},
   "outputs": [
    {
     "data": {
      "image/png": "[encoded data removed]",
      "text/plain": [
       "<Figure size 432x288 with 1 Axes>"
      ]
     },
     "metadata": {
      "needs_background": "light"
     },
     "output_type": "display_data"
    }
   ],
   "source": [
    "plt.hist(r, density=True, bins=100)\n",
    "plt.show()"
   ]
  },
  {
   "cell_type": "code",
   "execution_count": null,
   "id": "equivalent-briefing",
   "metadata": {},
   "outputs": [],
   "source": []
  }
 ],
 "metadata": {
  "hide_input": false,
  "kernelspec": {
   "display_name": "Python 3",
   "language": "python",
   "name": "python3"
  },
  "language_info": {
   "codemirror_mode": {
    "name": "ipython",
    "version": 3
   },
   "file_extension": ".py",
   "mimetype": "text/x-python",
   "name": "python",
   "nbconvert_exporter": "python",
   "pygments_lexer": "ipython3",
   "version": "3.8.8"
  }
 },
 "nbformat": 4,
 "nbformat_minor": 5
}
