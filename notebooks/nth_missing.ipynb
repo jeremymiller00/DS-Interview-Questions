{
 "cells": [
  {
   "cell_type": "markdown",
   "metadata": {},
   "source": [
    "Suppose you're given an unsorted array, a. The array is intended to have all integer elements between its minimum and maximum, but could be missing some elements. Write a python function to find the n-th missing element in the array.\n",
    "\n",
    "Consider the array in sorted order, then find the n-th missing number. If the n-th missing number does not exist, you can output 'Does not exist'.\n",
    "\n",
    "Examples:\n",
    "\n",
    "Input: a = [2, 3, 11, 9], n = 3\n",
    "Output: 6\n",
    "Missing elements in array: [4, 5, 6, 7, 8, 10]. So, the 3rd missing element is 6.\n",
    "\n",
    "\n",
    "Input: a = [2, 3, 5], n = 5\n",
    "Output: 'Does not exist'\n",
    "Since there is no 5th missing element in the array, we output 'Does not exist' (the only missing element here is 4)."
   ]
  },
  {
   "cell_type": "code",
   "execution_count": 7,
   "metadata": {},
   "outputs": [],
   "source": [
    "def nm(l, n):\n",
    "    s1 = set(l)\n",
    "    s2 = set(list(range(min(l), max(l))))\n",
    "    s3 = s2 - s1\n",
    "    l1 = sorted(list(s3))\n",
    "    try:\n",
    "        return l1[n-1]\n",
    "    except:\n",
    "        return \"Does not exist\""
   ]
  },
  {
   "cell_type": "code",
   "execution_count": 8,
   "metadata": {},
   "outputs": [
    {
     "data": {
      "text/plain": [
       "6"
      ]
     },
     "execution_count": 8,
     "metadata": {},
     "output_type": "execute_result"
    }
   ],
   "source": [
    "nm([2,3,11,9], 3)"
   ]
  },
  {
   "cell_type": "code",
   "execution_count": 9,
   "metadata": {},
   "outputs": [],
   "source": [
    "assert nm([2,3,11,9], 3) == 6\n",
    "assert nm([2,3,5], 5) == \"Does not exist\""
   ]
  },
  {
   "cell_type": "code",
   "execution_count": 4,
   "metadata": {},
   "outputs": [
    {
     "data": {
      "text/plain": [
       "2"
      ]
     },
     "execution_count": 4,
     "metadata": {},
     "output_type": "execute_result"
    }
   ],
   "source": [
    "l = [2,3,5]\n",
    "min(l)"
   ]
  },
  {
   "cell_type": "code",
   "execution_count": null,
   "metadata": {},
   "outputs": [],
   "source": []
  }
 ],
 "metadata": {
  "hide_input": false,
  "kernelspec": {
   "display_name": "Python 3",
   "language": "python",
   "name": "python3"
  },
  "language_info": {
   "codemirror_mode": {
    "name": "ipython",
    "version": 3
   },
   "file_extension": ".py",
   "mimetype": "text/x-python",
   "name": "python",
   "nbconvert_exporter": "python",
   "pygments_lexer": "ipython3",
   "version": "3.8.5"
  }
 },
 "nbformat": 4,
 "nbformat_minor": 4
}
