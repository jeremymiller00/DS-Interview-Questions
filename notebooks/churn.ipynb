{
 "cells": [
  {
   "cell_type": "markdown",
   "metadata": {},
   "source": [
    "Given the following dataset, can you create a decision tree to predict customer churn? For simplicity, you can set the maximum depth of the decision tree to 4. For the purpose of this exercise, you do not need to optimize the model.\n",
    "\n",
    "Solution will create a model and decision tree using Python, then discuss interpreting the output."
   ]
  },
  {
   "cell_type": "code",
   "execution_count": 56,
   "metadata": {},
   "outputs": [],
   "source": [
    "import pandas as pd\n",
    "from sklearn.model_selection import cross_val_score, train_test_split\n",
    "from sklearn.tree import DecisionTreeClassifier\n",
    "from sklearn.metrics import roc_auc_score, roc_curve, auc\n",
    "import matplotlib.pyplot as plt"
   ]
  },
  {
   "cell_type": "code",
   "execution_count": 43,
   "metadata": {},
   "outputs": [],
   "source": [
    "data_path = \"https://raw.githubusercontent.com/erood/interviewqs.com_code_snippets/master/Datasets/teleco_user_data.csv\"\n",
    "data = pd.read_csv(data_path)"
   ]
  },
  {
   "cell_type": "code",
   "execution_count": 44,
   "metadata": {},
   "outputs": [
    {
     "name": "stdout",
     "output_type": "stream",
     "text": [
      "<class 'pandas.core.frame.DataFrame'>\n",
      "RangeIndex: 7043 entries, 0 to 7042\n",
      "Data columns (total 21 columns):\n",
      "customerID          7043 non-null object\n",
      "gender              7043 non-null object\n",
      "SeniorCitizen       7043 non-null int64\n",
      "Partner             7043 non-null object\n",
      "Dependents          7043 non-null object\n",
      "tenure              7043 non-null int64\n",
      "PhoneService        7043 non-null object\n",
      "MultipleLines       7043 non-null object\n",
      "InternetService     7043 non-null object\n",
      "OnlineSecurity      7043 non-null object\n",
      "OnlineBackup        7043 non-null object\n",
      "DeviceProtection    7043 non-null object\n",
      "TechSupport         7043 non-null object\n",
      "StreamingTV         7043 non-null object\n",
      "StreamingMovies     7043 non-null object\n",
      "Contract            7043 non-null object\n",
      "PaperlessBilling    7043 non-null object\n",
      "PaymentMethod       7043 non-null object\n",
      "MonthlyCharges      7043 non-null float64\n",
      "TotalCharges        7043 non-null object\n",
      "Churn               7043 non-null object\n",
      "dtypes: float64(1), int64(2), object(18)\n",
      "memory usage: 1.1+ MB\n"
     ]
    }
   ],
   "source": [
    "data.info()"
   ]
  },
  {
   "cell_type": "code",
   "execution_count": 45,
   "metadata": {},
   "outputs": [],
   "source": [
    "dummies = pd.get_dummies(data=data, columns=['gender', 'Partner', 'Dependents',\n",
    "       'PhoneService', 'MultipleLines', 'InternetService',\n",
    "       'OnlineSecurity', 'OnlineBackup', 'DeviceProtection', 'TechSupport',\n",
    "       'StreamingTV', 'StreamingMovies', 'Contract', 'PaperlessBilling',\n",
    "       'PaymentMethod', 'Churn'], drop_first=True)"
   ]
  },
  {
   "cell_type": "code",
   "execution_count": 46,
   "metadata": {},
   "outputs": [],
   "source": [
    "dummies['TotalCharges'] = [x if x != \" \" else \"0\" for x in dummies['TotalCharges']]"
   ]
  },
  {
   "cell_type": "code",
   "execution_count": 47,
   "metadata": {},
   "outputs": [],
   "source": [
    "dummies['TotalCharges'] = pd.to_numeric(dummies['TotalCharges'])"
   ]
  },
  {
   "cell_type": "code",
   "execution_count": 50,
   "metadata": {},
   "outputs": [],
   "source": [
    "X = dummies.drop([\"customerID\",\"Churn_Yes\"], axis=1)\n",
    "y = dummies[\"Churn_Yes\"]\n",
    "X_train, X_test, y_train, y_test = train_test_split(X, y, test_size=0.15, random_state=42)"
   ]
  },
  {
   "cell_type": "code",
   "execution_count": 51,
   "metadata": {},
   "outputs": [
    {
     "name": "stdout",
     "output_type": "stream",
     "text": [
      "<class 'pandas.core.frame.DataFrame'>\n",
      "Int64Index: 5986 entries, 1869 to 860\n",
      "Data columns (total 30 columns):\n",
      "SeniorCitizen                            5986 non-null int64\n",
      "tenure                                   5986 non-null int64\n",
      "MonthlyCharges                           5986 non-null float64\n",
      "TotalCharges                             5986 non-null float64\n",
      "gender_Male                              5986 non-null uint8\n",
      "Partner_Yes                              5986 non-null uint8\n",
      "Dependents_Yes                           5986 non-null uint8\n",
      "PhoneService_Yes                         5986 non-null uint8\n",
      "MultipleLines_No phone service           5986 non-null uint8\n",
      "MultipleLines_Yes                        5986 non-null uint8\n",
      "InternetService_Fiber optic              5986 non-null uint8\n",
      "InternetService_No                       5986 non-null uint8\n",
      "OnlineSecurity_No internet service       5986 non-null uint8\n",
      "OnlineSecurity_Yes                       5986 non-null uint8\n",
      "OnlineBackup_No internet service         5986 non-null uint8\n",
      "OnlineBackup_Yes                         5986 non-null uint8\n",
      "DeviceProtection_No internet service     5986 non-null uint8\n",
      "DeviceProtection_Yes                     5986 non-null uint8\n",
      "TechSupport_No internet service          5986 non-null uint8\n",
      "TechSupport_Yes                          5986 non-null uint8\n",
      "StreamingTV_No internet service          5986 non-null uint8\n",
      "StreamingTV_Yes                          5986 non-null uint8\n",
      "StreamingMovies_No internet service      5986 non-null uint8\n",
      "StreamingMovies_Yes                      5986 non-null uint8\n",
      "Contract_One year                        5986 non-null uint8\n",
      "Contract_Two year                        5986 non-null uint8\n",
      "PaperlessBilling_Yes                     5986 non-null uint8\n",
      "PaymentMethod_Credit card (automatic)    5986 non-null uint8\n",
      "PaymentMethod_Electronic check           5986 non-null uint8\n",
      "PaymentMethod_Mailed check               5986 non-null uint8\n",
      "dtypes: float64(2), int64(2), uint8(26)\n",
      "memory usage: 385.8 KB\n"
     ]
    }
   ],
   "source": [
    "X_train.info()"
   ]
  },
  {
   "cell_type": "markdown",
   "metadata": {},
   "source": [
    "Without Total Charges"
   ]
  },
  {
   "cell_type": "code",
   "execution_count": 33,
   "metadata": {},
   "outputs": [
    {
     "name": "stdout",
     "output_type": "stream",
     "text": [
      "[0.51984877 0.49149338 0.39697543]\n",
      "[0.62785388 0.62052506 0.64615385]\n"
     ]
    }
   ],
   "source": [
    "dtc = DecisionTreeClassifier(max_depth=4)\n",
    "# dtc.fit(X_train, y_train)\n",
    "cv_r = cross_val_score(dtc, X_train, y_train, cv=3, scoring='recall')\n",
    "cv_p = cross_val_score(dtc, X_train, y_train, cv=3, scoring='precision')\n",
    "print(cv_r)\n",
    "print(cv_p)"
   ]
  },
  {
   "cell_type": "markdown",
   "metadata": {},
   "source": [
    "With Total Charges"
   ]
  },
  {
   "cell_type": "code",
   "execution_count": 54,
   "metadata": {},
   "outputs": [
    {
     "name": "stdout",
     "output_type": "stream",
     "text": [
      "[0.51984877 0.49149338 0.39697543]\n",
      "[0.62785388 0.62052506 0.64615385]\n"
     ]
    }
   ],
   "source": [
    "dtc = DecisionTreeClassifier(max_depth=4)\n",
    "# dtc.fit(X_train, y_train)\n",
    "cv_r = cross_val_score(dtc, X_train, y_train, cv=3, scoring='recall')\n",
    "cv_p = cross_val_score(dtc, X_train, y_train, cv=3, scoring='precision')\n",
    "print(cv_r)\n",
    "print(cv_p)"
   ]
  },
  {
   "cell_type": "code",
   "execution_count": 58,
   "metadata": {},
   "outputs": [],
   "source": [
    "dtc.fit(X_train, y_train)\n",
    "predictions = dtc.predict(X_test)"
   ]
  },
  {
   "cell_type": "code",
   "execution_count": 63,
   "metadata": {},
   "outputs": [],
   "source": [
    "fpr, tpr, thresh = roc_curve(y_test, predictions)\n",
    "roc_auc = auc(fpr, tpr)"
   ]
  },
  {
   "cell_type": "code",
   "execution_count": 64,
   "metadata": {},
   "outputs": [
    {
     "data": {
      "text/plain": [
       "array([0.        , 0.09806452, 1.        ])"
      ]
     },
     "execution_count": 64,
     "metadata": {},
     "output_type": "execute_result"
    }
   ],
   "source": [
    "fpr"
   ]
  },
  {
   "cell_type": "code",
   "execution_count": null,
   "metadata": {},
   "outputs": [],
   "source": []
  }
 ],
 "metadata": {
  "hide_input": false,
  "kernelspec": {
   "display_name": "Python 3",
   "language": "python",
   "name": "python3"
  },
  "language_info": {
   "codemirror_mode": {
    "name": "ipython",
    "version": 3
   },
   "file_extension": ".py",
   "mimetype": "text/x-python",
   "name": "python",
   "nbconvert_exporter": "python",
   "pygments_lexer": "ipython3",
   "version": "3.7.5"
  }
 },
 "nbformat": 4,
 "nbformat_minor": 2
}
