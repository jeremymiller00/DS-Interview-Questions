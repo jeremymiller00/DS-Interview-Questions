{
 "cells": [
  {
   "cell_type": "markdown",
   "id": "collectible-netscape",
   "metadata": {},
   "source": [
    "Say you roll three dice, one by one. What is the probability that you obtain 3 numbers in a strictly increasing order?"
   ]
  },
  {
   "cell_type": "code",
   "execution_count": 6,
   "id": "working-priority",
   "metadata": {},
   "outputs": [],
   "source": [
    "from scipy.stats import randint"
   ]
  },
  {
   "cell_type": "code",
   "execution_count": 27,
   "id": "national-belfast",
   "metadata": {},
   "outputs": [],
   "source": [
    "def p_increasing(n=100):\n",
    "    die_1 = randint.rvs(low=1, high=7, size=n)\n",
    "    die_2 = randint.rvs(low=1, high=7, size=n)\n",
    "    die_3 = randint.rvs(low=1, high=7, size=n)\n",
    "    return (die_2 > die_1) & (die_3 > die_2)"
   ]
  },
  {
   "cell_type": "code",
   "execution_count": 38,
   "id": "fifth-chinese",
   "metadata": {},
   "outputs": [
    {
     "data": {
      "text/plain": [
       "0.092303"
      ]
     },
     "execution_count": 38,
     "metadata": {},
     "output_type": "execute_result"
    }
   ],
   "source": [
    "n=1000000\n",
    "p_increasing(n).sum() / n"
   ]
  },
  {
   "cell_type": "code",
   "execution_count": null,
   "id": "monetary-onion",
   "metadata": {},
   "outputs": [],
   "source": []
  }
 ],
 "metadata": {
  "hide_input": false,
  "kernelspec": {
   "display_name": "Python 3",
   "language": "python",
   "name": "python3"
  },
  "language_info": {
   "codemirror_mode": {
    "name": "ipython",
    "version": 3
   },
   "file_extension": ".py",
   "mimetype": "text/x-python",
   "name": "python",
   "nbconvert_exporter": "python",
   "pygments_lexer": "ipython3",
   "version": "3.8.8"
  }
 },
 "nbformat": 4,
 "nbformat_minor": 5
}
