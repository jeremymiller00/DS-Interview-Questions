{
 "cells": [
  {
   "cell_type": "markdown",
   "id": "instrumental-passion",
   "metadata": {},
   "source": [
    "Given a list of numbers and a number k, return whether any two numbers from the list add up to k.\n",
    "\n",
    "For example, given [10, 15, 3, 7] and k of 17, return true since 10 + 7 is 17."
   ]
  },
  {
   "cell_type": "code",
   "execution_count": 3,
   "id": "seasonal-boards",
   "metadata": {},
   "outputs": [],
   "source": [
    "def add_to_k(nums, k):\n",
    "    a = None\n",
    "    b = None\n",
    "    nums.sort()\n",
    "    for i in range(len(nums)):\n",
    "        if nums[i] > k:\n",
    "            return False\n",
    "        a = nums[i]\n",
    "        for j in range(i+1, len(nums)):\n",
    "            if nums[j] > k:\n",
    "                break\n",
    "            b = nums[j]\n",
    "            if a + b == k:\n",
    "                return True\n",
    "    return False"
   ]
  },
  {
   "cell_type": "code",
   "execution_count": 4,
   "id": "national-hamburg",
   "metadata": {},
   "outputs": [],
   "source": [
    "assert add_to_k([10,15,3,7], 17) == True\n",
    "assert add_to_k([10,15,3,7], 4) == False"
   ]
  },
  {
   "cell_type": "code",
   "execution_count": null,
   "id": "bearing-istanbul",
   "metadata": {},
   "outputs": [],
   "source": []
  }
 ],
 "metadata": {
  "hide_input": false,
  "kernelspec": {
   "display_name": "Python 3",
   "language": "python",
   "name": "python3"
  },
  "language_info": {
   "codemirror_mode": {
    "name": "ipython",
    "version": 3
   },
   "file_extension": ".py",
   "mimetype": "text/x-python",
   "name": "python",
   "nbconvert_exporter": "python",
   "pygments_lexer": "ipython3",
   "version": "3.8.8"
  }
 },
 "nbformat": 4,
 "nbformat_minor": 5
}
