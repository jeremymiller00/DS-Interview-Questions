{
 "cells": [
  {
   "cell_type": "markdown",
   "metadata": {},
   "source": [
    "Function to merge and sort arrays\n",
    "Python Data Structures Arrays\n",
    "\n",
    "Suppose you're given two lists, each unsorted. Write a function to take in the two lists, merge them, and then sort them in ascending order. You can call your function MergeSort().\n",
    "\n",
    "Example:\n",
    "\n",
    "Input: a = [6, 11, 8], b = [10, 34, 22]\n",
    "\n",
    "Output: [6, 8, 10, 11, 22, 34]\n",
    "\n",
    "Solution will be written in Python for premium users."
   ]
  },
  {
   "cell_type": "code",
   "execution_count": 5,
   "metadata": {},
   "outputs": [],
   "source": [
    "def merge_sort(a: list, b: list) -> list:\n",
    "    x = a.copy()\n",
    "    x.extend(b)\n",
    "    x.sort()\n",
    "    return x"
   ]
  },
  {
   "cell_type": "code",
   "execution_count": 6,
   "metadata": {},
   "outputs": [],
   "source": [
    "assert merge_sort([6, 11, 8], [10, 34, 22]) == [6, 8, 10, 11, 22, 34]"
   ]
  },
  {
   "cell_type": "code",
   "execution_count": null,
   "metadata": {},
   "outputs": [],
   "source": []
  }
 ],
 "metadata": {
  "hide_input": false,
  "kernelspec": {
   "display_name": "Python 3",
   "language": "python",
   "name": "python3"
  },
  "language_info": {
   "codemirror_mode": {
    "name": "ipython",
    "version": 3
   },
   "file_extension": ".py",
   "mimetype": "text/x-python",
   "name": "python",
   "nbconvert_exporter": "python",
   "pygments_lexer": "ipython3",
   "version": "3.8.5"
  }
 },
 "nbformat": 4,
 "nbformat_minor": 4
}
