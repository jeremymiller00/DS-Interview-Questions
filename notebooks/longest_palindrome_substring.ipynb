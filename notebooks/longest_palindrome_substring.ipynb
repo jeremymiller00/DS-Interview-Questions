{
 "cells": [
  {
   "cell_type": "markdown",
   "metadata": {},
   "source": [
    "A palindrome is \"a word, phrase, or sequence that reads the same backward as forward.\" Below are some example palindromes:\n",
    "\n",
    "madam\n",
    "racecar\n",
    "tat\n",
    "Can you write a python function that takes in a string and outputs the longest palindrome? If the string itself is a palindrome, the function would output the original string."
   ]
  },
  {
   "cell_type": "code",
   "execution_count": 1,
   "metadata": {},
   "outputs": [],
   "source": [
    "s = \"lkjsdflsjdflkjdfmadamlasodjf\"\n",
    "ss = \"kjracecarlkiiiuiu\""
   ]
  },
  {
   "cell_type": "code",
   "execution_count": 41,
   "metadata": {},
   "outputs": [],
   "source": [
    "def isPal(s: str) -> bool:\n",
    "    chars = [c for c in s]\n",
    "    rev_chars = chars[::-1]\n",
    "    rev_s = \"\".join(rev_chars)\n",
    "    return rev_s == s\n",
    "    \n",
    "def lp(s: str) -> str:\n",
    "    window = len(s)\n",
    "    while window > 1:\n",
    "        for i in range(len(s)-window):\n",
    "#             print(s[i:i+window])\n",
    "            if isPal(s[i:i+window]):\n",
    "                return s[i:i+window]\n",
    "        window -= 1\n",
    "    return \"No Palindrome\""
   ]
  },
  {
   "cell_type": "code",
   "execution_count": 43,
   "metadata": {},
   "outputs": [],
   "source": [
    "assert isPal(\"madam\") == True\n",
    "assert isPal(\"racecar\") == True\n",
    "assert isPal(\"please\") == False\n",
    "\n",
    "\n",
    "assert lp(s) == 'madam'\n",
    "assert lp(ss) == 'racecar'\n",
    "assert lp(\"qwerty\") == \"No Palindrome\""
   ]
  },
  {
   "cell_type": "code",
   "execution_count": null,
   "metadata": {},
   "outputs": [],
   "source": []
  }
 ],
 "metadata": {
  "hide_input": false,
  "kernelspec": {
   "display_name": "Python 3",
   "language": "python",
   "name": "python3"
  },
  "language_info": {
   "codemirror_mode": {
    "name": "ipython",
    "version": 3
   },
   "file_extension": ".py",
   "mimetype": "text/x-python",
   "name": "python",
   "nbconvert_exporter": "python",
   "pygments_lexer": "ipython3",
   "version": "3.8.5"
  }
 },
 "nbformat": 4,
 "nbformat_minor": 4
}
