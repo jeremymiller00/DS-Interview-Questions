{
 "cells": [
  {
   "cell_type": "markdown",
   "metadata": {},
   "source": [
    "Write a function to return a boolean that indicates if two strings are one edit away from being identical. The function should take in 2 strings and return a boolean.\n",
    "\n",
    "The definition of an 'edit' is as follows:\n",
    "\n",
    "Insert one character\n",
    "Remove one character\n",
    "Replace one character\n",
    "A few examples of inputs and the function result are listed below:\n",
    "\n",
    "OneEditAway('pea', 'peas') = True\n",
    "\n",
    "OneEditAway('pea', 'fleas') = False\n",
    "\n",
    "OneEditAway('pea', 'lea') = True\n",
    "\n",
    "OneEditAway('pea', 'seas') = False"
   ]
  },
  {
   "cell_type": "code",
   "execution_count": 4,
   "metadata": {},
   "outputs": [],
   "source": [
    "def OneEditAway(a, b):\n",
    "    if len(a) == len(b):\n",
    "        # check replace\n",
    "        diffs = 0\n",
    "        for i in range(len(a)):\n",
    "            if a[i] != b[i]:\n",
    "                diffs += 1\n",
    "            if diffs > 1:\n",
    "                return False\n",
    "        return True\n",
    "        \n",
    "    elif len(a) == len(b) - 1:\n",
    "        # check insert\n",
    "        diffs = 0\n",
    "        for i in range(len(a)):\n",
    "            if a[i] != b[i+diffs]:\n",
    "                diffs += 1\n",
    "            if diffs > 1:\n",
    "                return False\n",
    "        return True\n",
    "        \n",
    "    \n",
    "    elif len(a) == len(b) + 1:\n",
    "        # check delete\n",
    "        diffs = 0\n",
    "        for i in range(len(b)):\n",
    "            if b[i] != a[i+diffs]:\n",
    "                diffs += 1\n",
    "            if diffs > 1:\n",
    "                return False\n",
    "        return True\n",
    "        \n",
    "    else:\n",
    "        return False"
   ]
  },
  {
   "cell_type": "code",
   "execution_count": 5,
   "metadata": {},
   "outputs": [
    {
     "data": {
      "text/plain": [
       "True"
      ]
     },
     "execution_count": 5,
     "metadata": {},
     "output_type": "execute_result"
    }
   ],
   "source": [
    "OneEditAway('pea', 'peas')"
   ]
  },
  {
   "cell_type": "code",
   "execution_count": 6,
   "metadata": {},
   "outputs": [
    {
     "data": {
      "text/plain": [
       "False"
      ]
     },
     "execution_count": 6,
     "metadata": {},
     "output_type": "execute_result"
    }
   ],
   "source": [
    "OneEditAway('pea', 'fleas')"
   ]
  },
  {
   "cell_type": "code",
   "execution_count": 7,
   "metadata": {},
   "outputs": [
    {
     "data": {
      "text/plain": [
       "True"
      ]
     },
     "execution_count": 7,
     "metadata": {},
     "output_type": "execute_result"
    }
   ],
   "source": [
    "OneEditAway('pea', 'lea')"
   ]
  },
  {
   "cell_type": "code",
   "execution_count": 8,
   "metadata": {},
   "outputs": [
    {
     "data": {
      "text/plain": [
       "False"
      ]
     },
     "execution_count": 8,
     "metadata": {},
     "output_type": "execute_result"
    }
   ],
   "source": [
    "OneEditAway('pea', 'seas')"
   ]
  },
  {
   "cell_type": "code",
   "execution_count": 9,
   "metadata": {},
   "outputs": [
    {
     "data": {
      "text/plain": [
       "True"
      ]
     },
     "execution_count": 9,
     "metadata": {},
     "output_type": "execute_result"
    }
   ],
   "source": [
    "OneEditAway('pea', 'pa')"
   ]
  },
  {
   "cell_type": "code",
   "execution_count": null,
   "metadata": {},
   "outputs": [],
   "source": []
  }
 ],
 "metadata": {
  "hide_input": false,
  "kernelspec": {
   "display_name": "Python 3",
   "language": "python",
   "name": "python3"
  },
  "language_info": {
   "codemirror_mode": {
    "name": "ipython",
    "version": 3
   },
   "file_extension": ".py",
   "mimetype": "text/x-python",
   "name": "python",
   "nbconvert_exporter": "python",
   "pygments_lexer": "ipython3",
   "version": "3.8.5"
  }
 },
 "nbformat": 4,
 "nbformat_minor": 4
}
