{
 "cells": [
  {
   "cell_type": "markdown",
   "metadata": {},
   "source": [
    "An insurance company classifies its customers into 3 categories: below average, average, and above average. No one moves more than one state at a time.\n",
    "\n",
    "For example, a customer cannot move from below average to above average or from above average to below average in a given period. After a given period, we notice that:\n",
    "\n",
    "40% of those in the below average category become average\n",
    "30% of those in the average category become above average\n",
    "10% of those in the average category become below average\n",
    "20% of those in the above average category are downgraded to average\n",
    "Given the above:\n",
    "\n",
    "Can you write the transition matrix for the model?\n",
    "What is the limiting fraction of drivers in each of these categories? (e.g. find the steady state)"
   ]
  },
  {
   "cell_type": "code",
   "execution_count": 1,
   "metadata": {},
   "outputs": [],
   "source": [
    "import numpy as np"
   ]
  },
  {
   "cell_type": "code",
   "execution_count": 2,
   "metadata": {},
   "outputs": [],
   "source": [
    "m = np.array([ [.6,.4,0], [.1,.6,.3], [0,.2,.8] ])"
   ]
  },
  {
   "cell_type": "code",
   "execution_count": 3,
   "metadata": {},
   "outputs": [
    {
     "data": {
      "text/plain": [
       "array([[0.6, 0.4, 0. ],\n",
       "       [0.1, 0.6, 0.3],\n",
       "       [0. , 0.2, 0.8]])"
      ]
     },
     "execution_count": 3,
     "metadata": {},
     "output_type": "execute_result"
    }
   ],
   "source": [
    "m"
   ]
  },
  {
   "cell_type": "code",
   "execution_count": 9,
   "metadata": {},
   "outputs": [],
   "source": []
  },
  {
   "cell_type": "code",
   "execution_count": 12,
   "metadata": {},
   "outputs": [
    {
     "name": "stdout",
     "output_type": "stream",
     "text": [
      "[ 28.31945504 109.85630112 161.82424384]\n"
     ]
    }
   ],
   "source": [
    "dist = np.array([100, 100, 100])\n",
    "for i in range(10):\n",
    "    dist = np.dot(dist, m)\n",
    "print(dist)"
   ]
  },
  {
   "cell_type": "code",
   "execution_count": 13,
   "metadata": {},
   "outputs": [
    {
     "name": "stdout",
     "output_type": "stream",
     "text": [
      "[ 27.27272727 109.09090909 163.63636364]\n"
     ]
    }
   ],
   "source": [
    "dist = np.array([100, 100, 100])\n",
    "for i in range(100):\n",
    "    dist = np.dot(dist, m)\n",
    "print(dist)"
   ]
  },
  {
   "cell_type": "code",
   "execution_count": 14,
   "metadata": {},
   "outputs": [
    {
     "name": "stdout",
     "output_type": "stream",
     "text": [
      "[ 27.27272727 109.09090909 163.63636364]\n"
     ]
    }
   ],
   "source": [
    "dist = np.array([100, 100, 100])\n",
    "for i in range(1000):\n",
    "    dist = np.dot(dist, m)\n",
    "print(dist)"
   ]
  },
  {
   "cell_type": "code",
   "execution_count": 15,
   "metadata": {},
   "outputs": [
    {
     "name": "stdout",
     "output_type": "stream",
     "text": [
      "[ 27.27272727 109.09090909 163.63636364]\n"
     ]
    }
   ],
   "source": [
    "dist = np.array([100, 100, 100])\n",
    "for i in range(10000):\n",
    "    dist = np.dot(dist, m)\n",
    "print(dist)"
   ]
  },
  {
   "cell_type": "code",
   "execution_count": null,
   "metadata": {},
   "outputs": [],
   "source": []
  }
 ],
 "metadata": {
  "hide_input": false,
  "kernelspec": {
   "display_name": "Python 3",
   "language": "python",
   "name": "python3"
  },
  "language_info": {
   "codemirror_mode": {
    "name": "ipython",
    "version": 3
   },
   "file_extension": ".py",
   "mimetype": "text/x-python",
   "name": "python",
   "nbconvert_exporter": "python",
   "pygments_lexer": "ipython3",
   "version": "3.7.7"
  }
 },
 "nbformat": 4,
 "nbformat_minor": 4
}
