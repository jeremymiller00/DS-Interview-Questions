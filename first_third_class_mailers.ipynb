{
 "cells": [
  {
   "cell_type": "markdown",
   "metadata": {},
   "source": [
    "Suppose you're trying to optimize a mailing campaign where physical mail is sent to potential customers. There are two options to send advertising mail: either first class or third class. First-class costs 0.50 per parcel with a delivery rate of 0.99 and third-class costs 0.35 per parcel with a delivery rate of 0.65. Third-class mail also receives a volume discount, if a batch of parcels is greater than 500, for first 500 are 0.35 and anything additional costs 0.32 per parcel.\n",
    "\n",
    "Questions:\n",
    "\n",
    "* Which option is the best for the company?\n",
    "* Assume our goal is to reach as many people with a cap of $1000, which option would be the best?\n",
    "* Assume our goal is to reach 100 people, what option is best?"
   ]
  },
  {
   "cell_type": "markdown",
   "metadata": {},
   "source": [
    "Assume the metrics is most successful deliveries"
   ]
  },
  {
   "cell_type": "markdown",
   "metadata": {},
   "source": [
    "For 1000 dollars how many do you get?"
   ]
  },
  {
   "cell_type": "code",
   "execution_count": 24,
   "metadata": {},
   "outputs": [],
   "source": [
    "def first_class(dollars):\n",
    "    return int(int(dollars / 0.5) * 0.99)\n",
    "\n",
    "def third_class(dollars):\n",
    "    sent = 0\n",
    "    while sent < 500 and dollars >= 0.35:\n",
    "        dollars -= 0.35\n",
    "        sent += 1\n",
    "    while dollars >= 0.32:\n",
    "        dollars -= 0.32\n",
    "        sent += 1\n",
    "    return int(sent * 0.65)"
   ]
  },
  {
   "cell_type": "code",
   "execution_count": 25,
   "metadata": {},
   "outputs": [
    {
     "name": "stdout",
     "output_type": "stream",
     "text": [
      "1980\n",
      "2000\n"
     ]
    }
   ],
   "source": [
    "print(first_class(1000))\n",
    "print(third_class(1000))"
   ]
  },
  {
   "cell_type": "code",
   "execution_count": 30,
   "metadata": {},
   "outputs": [
    {
     "name": "stdout",
     "output_type": "stream",
     "text": [
      "100\n",
      "94\n"
     ]
    }
   ],
   "source": [
    "print(first_class(51))\n",
    "print(third_class(51))"
   ]
  },
  {
   "cell_type": "code",
   "execution_count": null,
   "metadata": {},
   "outputs": [],
   "source": []
  }
 ],
 "metadata": {
  "hide_input": false,
  "kernelspec": {
   "display_name": "Python 3",
   "language": "python",
   "name": "python3"
  },
  "language_info": {
   "codemirror_mode": {
    "name": "ipython",
    "version": 3
   },
   "file_extension": ".py",
   "mimetype": "text/x-python",
   "name": "python",
   "nbconvert_exporter": "python",
   "pygments_lexer": "ipython3",
   "version": "3.8.5"
  }
 },
 "nbformat": 4,
 "nbformat_minor": 4
}
