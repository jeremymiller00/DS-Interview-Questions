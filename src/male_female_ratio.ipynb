{
 "cells": [
  {
   "cell_type": "code",
   "execution_count": 1,
   "id": "voluntary-michael",
   "metadata": {},
   "outputs": [],
   "source": [
    "from scipy.stats import geom"
   ]
  },
  {
   "cell_type": "code",
   "execution_count": 3,
   "id": "difficult-charles",
   "metadata": {},
   "outputs": [],
   "source": [
    "p = 0.5\n",
    "rv = geom(p)"
   ]
  },
  {
   "cell_type": "code",
   "execution_count": 4,
   "id": "faced-going",
   "metadata": {},
   "outputs": [],
   "source": [
    "n_female = geom.stats(p, moments='m')"
   ]
  },
  {
   "cell_type": "code",
   "execution_count": 9,
   "id": "visible-humanitarian",
   "metadata": {},
   "outputs": [
    {
     "data": {
      "text/plain": [
       "array(2.)"
      ]
     },
     "execution_count": 9,
     "metadata": {},
     "output_type": "execute_result"
    }
   ],
   "source": [
    "n_female"
   ]
  },
  {
   "cell_type": "markdown",
   "id": "rural-pantyhose",
   "metadata": {},
   "source": [
    "A typical family has 2 girls and 1 boy"
   ]
  },
  {
   "cell_type": "code",
   "execution_count": 17,
   "id": "recreational-fault",
   "metadata": {},
   "outputs": [],
   "source": [
    "def sim_ratio(n=1000, p=0.5):\n",
    "    females = geom.rvs(p=p, size=n)\n",
    "    return females.sum() / n"
   ]
  },
  {
   "cell_type": "code",
   "execution_count": 20,
   "id": "subject-single",
   "metadata": {},
   "outputs": [
    {
     "data": {
      "text/plain": [
       "1.998"
      ]
     },
     "execution_count": 20,
     "metadata": {},
     "output_type": "execute_result"
    }
   ],
   "source": [
    "sim_ratio(100000, 0.5)"
   ]
  },
  {
   "cell_type": "code",
   "execution_count": 15,
   "id": "demanding-discount",
   "metadata": {},
   "outputs": [
    {
     "data": {
      "text/plain": [
       "1.963"
      ]
     },
     "execution_count": 15,
     "metadata": {},
     "output_type": "execute_result"
    }
   ],
   "source": [
    "females.sum() / males"
   ]
  },
  {
   "cell_type": "code",
   "execution_count": 23,
   "id": "accomplished-damages",
   "metadata": {},
   "outputs": [
    {
     "data": {
      "text/plain": [
       "0.25"
      ]
     },
     "execution_count": 23,
     "metadata": {},
     "output_type": "execute_result"
    }
   ],
   "source": [
    "rv.pmf(2)"
   ]
  },
  {
   "cell_type": "code",
   "execution_count": null,
   "id": "undefined-royal",
   "metadata": {},
   "outputs": [],
   "source": []
  }
 ],
 "metadata": {
  "hide_input": false,
  "kernelspec": {
   "display_name": "Python 3",
   "language": "python",
   "name": "python3"
  },
  "language_info": {
   "codemirror_mode": {
    "name": "ipython",
    "version": 3
   },
   "file_extension": ".py",
   "mimetype": "text/x-python",
   "name": "python",
   "nbconvert_exporter": "python",
   "pygments_lexer": "ipython3",
   "version": "3.8.8"
  }
 },
 "nbformat": 4,
 "nbformat_minor": 5
}
